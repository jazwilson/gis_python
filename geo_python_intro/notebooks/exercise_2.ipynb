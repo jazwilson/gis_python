{
 "cells": [
  {
   "attachments": {},
   "cell_type": "markdown",
   "metadata": {},
   "source": [
    "## Lesson 2: Basic elements of python"
   ]
  },
  {
   "attachments": {},
   "cell_type": "markdown",
   "metadata": {},
   "source": [
    "Lesson overview:\n",
    "\n",
    "- Basic elements of python\n",
    "\n",
    "- Intro to version control\n",
    "\n",
    "- Git\n",
    "\n",
    "- Good practices: describing your code"
   ]
  },
  {
   "attachments": {},
   "cell_type": "markdown",
   "metadata": {},
   "source": [
    "## Exercise 2 - Lists and indices"
   ]
  },
  {
   "attachments": {},
   "cell_type": "markdown",
   "metadata": {},
   "source": [
    "- Creating two lists for the FMI station names and years in which they began operating\n",
    "- Adding the second set of stations and operation years to your lists\n",
    "- Sorting the lists as directed\n",
    "- Committing each change separately using Git, and pushing the changes to GitHub\n",
    "- Listing the changes you needed to make to get the code working in plain English by modifying the existing text or adding a Markdown cell above each change"
   ]
  },
  {
   "attachments": {},
   "cell_type": "markdown",
   "metadata": {},
   "source": [
    "### Problem 1"
   ]
  },
  {
   "attachments": {},
   "cell_type": "markdown",
   "metadata": {},
   "source": [
    "Part 1"
   ]
  },
  {
   "cell_type": "code",
   "execution_count": 1,
   "metadata": {},
   "outputs": [],
   "source": [
    "''' Create a list for both station_names and station_start_years '''\n",
    "station_names = [\"lighthouse\",\n",
    "                 \"Harmaja\",\n",
    "                 \"Suomenlinna aaltopoiju\",\n",
    "                 \"Kumpula\",\n",
    "                 \"Kaisaniemi\"]\n",
    "station_start_years = [2003, 1989, 2016, 2005, 1844]"
   ]
  },
  {
   "cell_type": "code",
   "execution_count": 2,
   "metadata": {},
   "outputs": [],
   "source": [
    "# Test list len is correct\n",
    "\n",
    "assert len(station_names) == 5, 'the station_names list should have 5 items'\n",
    "assert len(station_start_years) == 5, 'station_start_years should have 5 items'"
   ]
  },
  {
   "cell_type": "code",
   "execution_count": 3,
   "metadata": {},
   "outputs": [],
   "source": [
    "# Check the first item in the list is correct\n",
    "\n",
    "assert station_names[0] == 'lighthouse', 'The first item in the station_names list should be \"lighthouse\"'\n",
    "assert station_start_years[0] == 2003, 'The first item in the station_start_years list should be 2003'"
   ]
  },
  {
   "attachments": {},
   "cell_type": "markdown",
   "metadata": {},
   "source": [
    "Part 2"
   ]
  },
  {
   "cell_type": "code",
   "execution_count": 4,
   "metadata": {},
   "outputs": [
    {
     "data": {
      "text/plain": [
       "['lighthouse',\n",
       " 'Harmaja',\n",
       " 'Suomenlinna aaltopoiju',\n",
       " 'Kumpula',\n",
       " 'Kaisaniemi',\n",
       " 'Malmi airfield',\n",
       " 'Vuosaari harbour',\n",
       " 'Kaivopuisto']"
      ]
     },
     "execution_count": 4,
     "metadata": {},
     "output_type": "execute_result"
    }
   ],
   "source": [
    "# append lists with new data\n",
    "station_names.append(\"Malmi airfield\")\n",
    "station_names.append(\"Vuosaari harbour\")\n",
    "station_names.append(\"Kaivopuisto\")\n",
    "\n",
    "station_names\n"
   ]
  },
  {
   "cell_type": "code",
   "execution_count": 5,
   "metadata": {},
   "outputs": [
    {
     "data": {
      "text/plain": [
       "[2003, 1989, 2016, 2005, 1844, 1937, 2012, 1904]"
      ]
     },
     "execution_count": 5,
     "metadata": {},
     "output_type": "execute_result"
    }
   ],
   "source": [
    "station_start_years.append(1937)\n",
    "station_start_years.append(2012)\n",
    "station_start_years.append(1904)\n",
    "\n",
    "station_start_years"
   ]
  },
  {
   "cell_type": "code",
   "execution_count": 6,
   "metadata": {},
   "outputs": [],
   "source": [
    "# check if modified lists have expected len values\n",
    "\n",
    "assert len(station_names) == 8\n",
    "assert len(station_start_years) == 8"
   ]
  },
  {
   "cell_type": "code",
   "execution_count": 7,
   "metadata": {},
   "outputs": [],
   "source": [
    "#test if last item is correctly inputted\n",
    "\n",
    "assert station_names[-1] == 'Kaivopuisto'\n",
    "assert station_start_years[-1] == 1904"
   ]
  },
  {
   "attachments": {},
   "cell_type": "markdown",
   "metadata": {},
   "source": [
    "Part 3"
   ]
  },
  {
   "cell_type": "code",
   "execution_count": 8,
   "metadata": {},
   "outputs": [
    {
     "data": {
      "text/plain": [
       "['lighthouse',\n",
       " 'Harmaja',\n",
       " 'Suomenlinna aaltopoiju',\n",
       " 'Kumpula',\n",
       " 'Kaisaniemi',\n",
       " 'Malmi airfield',\n",
       " 'Vuosaari harbour',\n",
       " 'Kaivopuisto']"
      ]
     },
     "execution_count": 8,
     "metadata": {},
     "output_type": "execute_result"
    }
   ],
   "source": [
    "# Sort station_names alphabetical order\n",
    "station_names.sort\n",
    "station_names\n",
    "\n"
   ]
  },
  {
   "cell_type": "code",
   "execution_count": 9,
   "metadata": {},
   "outputs": [
    {
     "data": {
      "text/plain": [
       "[2016, 2012, 2005, 2003, 1989, 1937, 1904, 1844]"
      ]
     },
     "execution_count": 9,
     "metadata": {},
     "output_type": "execute_result"
    }
   ],
   "source": [
    "# Sort station_start_years from most recent starting year\n",
    "station_start_years.sort(reverse=True)\n",
    "station_start_years"
   ]
  },
  {
   "cell_type": "code",
   "execution_count": 10,
   "metadata": {},
   "outputs": [],
   "source": [
    "# check last item  in list correct\n",
    "\n",
    "assert station_names[-1] == 'Kaivopuisto'\n",
    "assert station_start_years[-1] == 1844"
   ]
  },
  {
   "attachments": {},
   "cell_type": "markdown",
   "metadata": {},
   "source": [
    "Sorted alphabetical and descending year lists now do not match. Explore zip() to ensure station data is consistent for both lists after sorting the station starting years in reverse order."
   ]
  },
  {
   "attachments": {},
   "cell_type": "markdown",
   "metadata": {},
   "source": [
    "Optional: Explore zip() in python independently "
   ]
  },
  {
   "cell_type": "code",
   "execution_count": 11,
   "metadata": {},
   "outputs": [
    {
     "data": {
      "text/plain": [
       "<zip at 0x7f7d80637440>"
      ]
     },
     "execution_count": 11,
     "metadata": {},
     "output_type": "execute_result"
    }
   ],
   "source": [
    "# example of passing zip() argument\n",
    "\n",
    "numbers = [1,2,3]\n",
    "letters = ['a', 'b', 'c']\n",
    "zipped  = zip(numbers, letters)\n",
    "zipped # holds iterator object\n"
   ]
  },
  {
   "cell_type": "code",
   "execution_count": 12,
   "metadata": {},
   "outputs": [
    {
     "data": {
      "text/plain": [
       "zip"
      ]
     },
     "execution_count": 12,
     "metadata": {},
     "output_type": "execute_result"
    }
   ],
   "source": [
    "type(zipped)"
   ]
  },
  {
   "cell_type": "code",
   "execution_count": 13,
   "metadata": {},
   "outputs": [
    {
     "data": {
      "text/plain": [
       "[(1, 'a'), (2, 'b'), (3, 'c')]"
      ]
     },
     "execution_count": 13,
     "metadata": {},
     "output_type": "execute_result"
    }
   ],
   "source": [
    "list(zipped) \n",
    "# returns a list of tuples of the form (x,y)"
   ]
  },
  {
   "attachments": {},
   "cell_type": "markdown",
   "metadata": {},
   "source": [
    "[Note:](https://realpython.com/python-zip-function/)\n",
    "- set objects do not keep elements in a particular order, so zip() will pair elements randomly\n",
    "- Sequences like lists, tuples or strngs, then iterables are guarenteed to be evaluated from left to right\n",
    "- the number of elements that zip() puts out will be equal to the length of the shortest iterable. The remaining elements in any longer iterables will be totally ignored by zip()\n",
    "- can use itertools.zip_longest() instead of zip(). With this function, the missing values will be replaced with whatever you pass to the fillvalue argument (defaults to None).\n",
    "- ***unzip*** with the unpacking operator *"
   ]
  },
  {
   "attachments": {},
   "cell_type": "markdown",
   "metadata": {},
   "source": [
    "Apply zip() to station data"
   ]
  },
  {
   "cell_type": "code",
   "execution_count": 14,
   "metadata": {},
   "outputs": [
    {
     "name": "stdout",
     "output_type": "stream",
     "text": [
      "Station name: lighthouse\n",
      "Station start years: 2016\n",
      "Station name: Harmaja\n",
      "Station start years: 2012\n",
      "Station name: Suomenlinna aaltopoiju\n",
      "Station start years: 2005\n",
      "Station name: Kumpula\n",
      "Station start years: 2003\n",
      "Station name: Kaisaniemi\n",
      "Station start years: 1989\n",
      "Station name: Malmi airfield\n",
      "Station start years: 1937\n",
      "Station name: Vuosaari harbour\n",
      "Station start years: 1904\n",
      "Station name: Kaivopuisto\n",
      "Station start years: 1844\n"
     ]
    }
   ],
   "source": [
    "for names, years in zip(station_names, station_start_years):\n",
    "    print(f'Station name: {names}')\n",
    "    print(f'Station start years: {years}')\n"
   ]
  },
  {
   "attachments": {},
   "cell_type": "markdown",
   "metadata": {},
   "source": [
    "**Implement zip() and sorted() to ensure that the station data is consistent for both lists when sorting the station starting years in reverse order**"
   ]
  },
  {
   "cell_type": "code",
   "execution_count": 15,
   "metadata": {},
   "outputs": [],
   "source": [
    "station_names2 = [\"lighthouse\",\n",
    "                 \"Harmaja\",\n",
    "                 \"Suomenlinna aaltopoiju\",\n",
    "                 \"Kumpula\",\n",
    "                 \"Kaisaniemi\",\n",
    "                 \"Malmi airfield\",\n",
    "                 \"Vuosaari harbour\",\n",
    "                 \"Kaivopuisto\"]\n",
    "\n",
    "station_start_years2 = [2003, 1989, 2016, 2005, 1844, 1937, 2012, 1904]"
   ]
  },
  {
   "cell_type": "code",
   "execution_count": 16,
   "metadata": {},
   "outputs": [
    {
     "data": {
      "text/plain": [
       "[(1844, 'Kaisaniemi'),\n",
       " (1904, 'Kaivopuisto'),\n",
       " (1937, 'Malmi airfield'),\n",
       " (1989, 'Harmaja'),\n",
       " (2003, 'lighthouse'),\n",
       " (2005, 'Kumpula'),\n",
       " (2012, 'Vuosaari harbour'),\n",
       " (2016, 'Suomenlinna aaltopoiju')]"
      ]
     },
     "execution_count": 16,
     "metadata": {},
     "output_type": "execute_result"
    }
   ],
   "source": [
    "# can also implement sorted() and zip() together\n",
    "\n",
    "data = sorted(zip(station_start_years2, station_names2)) # sort by station_start_years2\n",
    "data\n"
   ]
  },
  {
   "cell_type": "code",
   "execution_count": 17,
   "metadata": {},
   "outputs": [
    {
     "data": {
      "text/plain": [
       "(1844, 1904, 1937, 1989, 2003, 2005, 2012, 2016)"
      ]
     },
     "execution_count": 17,
     "metadata": {},
     "output_type": "execute_result"
    }
   ],
   "source": [
    "# to unzip with the unpacking operator *\n",
    "\n",
    "years, names = zip(*data)\n",
    "years"
   ]
  },
  {
   "attachments": {},
   "cell_type": "markdown",
   "metadata": {},
   "source": [
    "### Problem 2"
   ]
  },
  {
   "attachments": {},
   "cell_type": "markdown",
   "metadata": {},
   "source": [
    "The data presents [monthly average temperatures recorded at the Helsinki Malmi airport](https://www.timeanddate.com/weather/finland/helsinki/climate)"
   ]
  },
  {
   "attachments": {},
   "cell_type": "markdown",
   "metadata": {},
   "source": [
    "Allows users to select a month and have the monthly average temperature printed to the screen. "
   ]
  },
  {
   "cell_type": "code",
   "execution_count": 18,
   "metadata": {},
   "outputs": [],
   "source": [
    "months = [\"Jan\", \"Feb\", \"March\", \"April\", \"May\", \"June\", \"July\", \"Aug\", \"Sept\", \"Oct\", \"Nov\", \"Dec\"]\n",
    "average_temp = [-3.5, -4.5, -1.0, 4.0, 10.0, 15.0, 18.0, 16.0, 11.5, 6.0, 2.0, -1.5]"
   ]
  },
  {
   "cell_type": "code",
   "execution_count": 24,
   "metadata": {},
   "outputs": [],
   "source": [
    "# variable to select month\n",
    "selected_month_index = 1"
   ]
  },
  {
   "cell_type": "code",
   "execution_count": 33,
   "metadata": {},
   "outputs": [
    {
     "name": "stdout",
     "output_type": "stream",
     "text": [
      "The average temperature in Helsinki in Feb is -4.5 degrees celcius\n"
     ]
    }
   ],
   "source": [
    "print(f'The average temperature in Helsinki in {months[selected_month_index]} is {average_temp[selected_month_index]} degrees celcius')"
   ]
  },
  {
   "cell_type": "code",
   "execution_count": 31,
   "metadata": {},
   "outputs": [],
   "source": [
    "# Check len of both lists\n",
    "\n",
    "assert len(months) == 12, 'Wrong length!'\n",
    "assert len(average_temp) == 12, 'Wrong length'"
   ]
  },
  {
   "cell_type": "code",
   "execution_count": 32,
   "metadata": {},
   "outputs": [],
   "source": [
    "# Check that month and average_temp variables are lists\n",
    "\n",
    "assert isinstance(months, list), ' Variable is not a list'\n",
    "assert isinstance(average_temp, list), 'Variable is not a list'"
   ]
  }
 ],
 "metadata": {
  "kernelspec": {
   "display_name": "geo-python-student",
   "language": "python",
   "name": "python3"
  },
  "language_info": {
   "codemirror_mode": {
    "name": "ipython",
    "version": 3
   },
   "file_extension": ".py",
   "mimetype": "text/x-python",
   "name": "python",
   "nbconvert_exporter": "python",
   "pygments_lexer": "ipython3",
   "version": "3.10.6"
  },
  "orig_nbformat": 4,
  "vscode": {
   "interpreter": {
    "hash": "822a9c2f4fc3f3a0a197d8e9f57df79f43053bd78895b9b35a156d8cf2f374cf"
   }
  }
 },
 "nbformat": 4,
 "nbformat_minor": 2
}
