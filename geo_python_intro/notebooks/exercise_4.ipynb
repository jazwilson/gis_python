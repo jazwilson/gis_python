{
 "cells": [
  {
   "attachments": {},
   "cell_type": "markdown",
   "metadata": {},
   "source": [
    "## Chapter / exercise 4"
   ]
  },
  {
   "attachments": {},
   "cell_type": "markdown",
   "metadata": {},
   "source": [
    "### Functions"
   ]
  },
  {
   "attachments": {},
   "cell_type": "markdown",
   "metadata": {},
   "source": [
    "- block of organised, reusable code \n",
    "- self contained programs to perform a specific task \n",
    "- avoid duplicate lines of code in your scripts"
   ]
  },
  {
   "cell_type": "code",
   "execution_count": 1,
   "metadata": {},
   "outputs": [],
   "source": [
    "def celsius_to_fahr(temp):\n",
    "    return 9 / 5 * temp + 32"
   ]
  },
  {
   "attachments": {},
   "cell_type": "markdown",
   "metadata": {},
   "source": [
    "**Anatomy of a function**\n",
    "\n",
    "- def              = def keyword\n",
    "- celsius_to_fahr  = celsius_to_fah = name of function\n",
    "- (temp)           = input parameter\n",
    "- return           = return statement\n",
    "- temp             = return value"
   ]
  },
  {
   "attachments": {},
   "cell_type": "markdown",
   "metadata": {},
   "source": [
    "### Calling functions"
   ]
  },
  {
   "cell_type": "code",
   "execution_count": 2,
   "metadata": {},
   "outputs": [],
   "source": [
    "freezing_point = celsius_to_fahr(0)"
   ]
  },
  {
   "cell_type": "code",
   "execution_count": 3,
   "metadata": {},
   "outputs": [
    {
     "name": "stdout",
     "output_type": "stream",
     "text": [
      "The freezing point of water in F is 32.0\n"
     ]
    }
   ],
   "source": [
    "print(f\"The freezing point of water in F is {freezing_point}\")"
   ]
  },
  {
   "cell_type": "code",
   "execution_count": 4,
   "metadata": {},
   "outputs": [
    {
     "name": "stdout",
     "output_type": "stream",
     "text": [
      "The boiling point of water in Fahrenheit is 212.0\n"
     ]
    }
   ],
   "source": [
    "print(f\"The boiling point of water in Fahrenheit is {celsius_to_fahr(100)}\")"
   ]
  },
  {
   "attachments": {},
   "cell_type": "markdown",
   "metadata": {},
   "source": [
    "let’s create another function called kelvins_to_celsius. We can define this just like we did with our celsius_to_fahr() function, noting that the Celsius temperature is just the temperature in Kelvins minus 273.15. Just to avoid confusion this time, let’s call the temperature variable used in the function temp_kelvins."
   ]
  },
  {
   "cell_type": "code",
   "execution_count": 5,
   "metadata": {},
   "outputs": [],
   "source": [
    "def kelvins_to_celcius(temp_kelvins):\n",
    "    return temp_kelvins - 273.15"
   ]
  },
  {
   "attachments": {},
   "cell_type": "markdown",
   "metadata": {},
   "source": [
    "Using our second function"
   ]
  },
  {
   "cell_type": "code",
   "execution_count": 6,
   "metadata": {},
   "outputs": [
    {
     "name": "stdout",
     "output_type": "stream",
     "text": [
      "Absolute zero in Celsius is -273.15\n"
     ]
    }
   ],
   "source": [
    "absolute_zero = kelvins_to_celcius(temp_kelvins=0)\n",
    "print(f\"Absolute zero in Celsius is {absolute_zero}\")"
   ]
  },
  {
   "attachments": {},
   "cell_type": "markdown",
   "metadata": {},
   "source": [
    "#### Exercise"
   ]
  },
  {
   "cell_type": "markdown",
   "metadata": {},
   "source": [
    "Isaac Newton developed a scale for measuring temperatures that was a precursor to the modern-day Celsius scale. In his system, water would freeze at 0 °N and boil at 33 °N (°N here indicates degrees Newton, not degrees north :D). Although it is difficult to directly convert between the two scales, if we assume that the increments of temperature change are equal between 0 °N and 33 °N we can come up with a temperature conversion equation between degrees Celsius and degrees Newton:"
   ]
  },
  {
   "cell_type": "code",
   "execution_count": 7,
   "metadata": {},
   "outputs": [],
   "source": [
    "def celcius_to_newton(temp_celcius):\n",
    "    return temp_celcius * 0.33"
   ]
  },
  {
   "cell_type": "code",
   "execution_count": 8,
   "metadata": {},
   "outputs": [
    {
     "name": "stdout",
     "output_type": "stream",
     "text": [
      "3C in Newtons is 0.99\n"
     ]
    }
   ],
   "source": [
    "print(f\"3C in Newtons is {celcius_to_newton(3)}\")"
   ]
  },
  {
   "attachments": {},
   "cell_type": "markdown",
   "metadata": {},
   "source": [
    "### Functions within a function"
   ]
  },
  {
   "cell_type": "code",
   "execution_count": 9,
   "metadata": {},
   "outputs": [],
   "source": [
    "def kelvins_to_fahr(temp_kelvins):\n",
    "    temp_celcius = kelvins_to_celcius(temp_kelvins)\n",
    "    temp_fahr = celsius_to_fahr(temp_celcius)\n",
    "    return temp_fahr"
   ]
  },
  {
   "attachments": {},
   "cell_type": "markdown",
   "metadata": {},
   "source": [
    "Now let’s use the function to calculate the temperature of absolute zero in degrees Fahrenheit. We can then print that value to the screen again."
   ]
  },
  {
   "cell_type": "code",
   "execution_count": 10,
   "metadata": {},
   "outputs": [],
   "source": [
    "absolute_zero_fahr = kelvins_to_fahr(temp_kelvins=0)"
   ]
  },
  {
   "cell_type": "code",
   "execution_count": 11,
   "metadata": {},
   "outputs": [
    {
     "name": "stdout",
     "output_type": "stream",
     "text": [
      "Absolute zero in Fahrenheit is -459.66999999999996\n"
     ]
    }
   ],
   "source": [
    "print(f\"Absolute zero in Fahrenheit is {absolute_zero_fahr}\")"
   ]
  },
  {
   "attachments": {},
   "cell_type": "markdown",
   "metadata": {},
   "source": [
    "### Functions and variable names"
   ]
  },
  {
   "attachments": {},
   "cell_type": "markdown",
   "metadata": {},
   "source": [
    "Let us define modified version of our kelvins_to_celsius function where the parameter value is still called temp_kelvins, but we now store the converted temperature as temp_celsius first and return that value."
   ]
  },
  {
   "cell_type": "code",
   "execution_count": 12,
   "metadata": {},
   "outputs": [],
   "source": [
    "def kelvins_to_celcius(temp_kelvins):\n",
    "    temp_celcius = temp_kelvins - 273.15\n",
    "    return temp_celcius"
   ]
  },
  {
   "attachments": {},
   "cell_type": "markdown",
   "metadata": {},
   "source": [
    "So, we have defined our function to accept temp_kelvins as its only parameter, calculate temp_celsius, and return that value. As you will see below, the variables defined in the function exist only in its namespace."
   ]
  },
  {
   "cell_type": "code",
   "execution_count": 13,
   "metadata": {},
   "outputs": [
    {
     "ename": "NameError",
     "evalue": "name 'temp_kelvins' is not defined",
     "output_type": "error",
     "traceback": [
      "\u001b[0;31m---------------------------------------------------------------------------\u001b[0m",
      "\u001b[0;31mNameError\u001b[0m                                 Traceback (most recent call last)",
      "Cell \u001b[0;32mIn [13], line 1\u001b[0m\n\u001b[0;32m----> 1\u001b[0m temp_kelvins\n",
      "\u001b[0;31mNameError\u001b[0m: name 'temp_kelvins' is not defined"
     ]
    }
   ],
   "source": [
    "temp_kelvins"
   ]
  },
  {
   "attachments": {},
   "cell_type": "markdown",
   "metadata": {},
   "source": [
    "temp_kelvins only defined within that function"
   ]
  },
  {
   "cell_type": "code",
   "execution_count": 14,
   "metadata": {},
   "outputs": [
    {
     "data": {
      "text/plain": [
       "20.0"
      ]
     },
     "execution_count": 14,
     "metadata": {},
     "output_type": "execute_result"
    }
   ],
   "source": [
    "kelvins_to_celcius(temp_kelvins=293.15)"
   ]
  },
  {
   "attachments": {},
   "cell_type": "markdown",
   "metadata": {},
   "source": [
    "## Using script files"
   ]
  },
  {
   "cell_type": "markdown",
   "metadata": {},
   "source": [
    "- make a function **temp_converter.py** in same dir as notebook\n",
    "- check ls"
   ]
  },
  {
   "cell_type": "code",
   "execution_count": null,
   "metadata": {},
   "outputs": [
    {
     "name": "stdout",
     "output_type": "stream",
     "text": [
      "\u001b[0m\u001b[01;32mexercise_1.ipynb\u001b[0m*  \u001b[01;32mexercise_3.ipynb\u001b[0m*  \u001b[01;32mtemp_converter.py\u001b[0m*\n",
      "\u001b[01;32mexercise_2.ipynb\u001b[0m*  \u001b[01;32mexercise_4.ipynb\u001b[0m*\n"
     ]
    }
   ],
   "source": [
    "%ls"
   ]
  },
  {
   "cell_type": "markdown",
   "metadata": {},
   "source": []
  },
  {
   "attachments": {},
   "cell_type": "markdown",
   "metadata": {},
   "source": [
    "**Import script functions**"
   ]
  },
  {
   "attachments": {},
   "cell_type": "markdown",
   "metadata": {},
   "source": [
    "Let’s now import our celsius_to_fahr() function from the other script by adding a specific import statement in the Python cell below: from temp_converter import celsius_to_fahr"
   ]
  },
  {
   "cell_type": "code",
   "execution_count": 15,
   "metadata": {},
   "outputs": [],
   "source": [
    "from temp_converter import celcius_to_fahr"
   ]
  },
  {
   "cell_type": "code",
   "execution_count": null,
   "metadata": {},
   "outputs": [
    {
     "name": "stdout",
     "output_type": "stream",
     "text": [
      "The freezing point of water in Fahrenheit is 32.0\n"
     ]
    }
   ],
   "source": [
    "print(f\"The freezing point of water in Fahrenheit is {celcius_to_fahr(0)}\")"
   ]
  },
  {
   "attachments": {},
   "cell_type": "markdown",
   "metadata": {},
   "source": [
    "**Import all functions from a script**"
   ]
  },
  {
   "cell_type": "code",
   "execution_count": 17,
   "metadata": {},
   "outputs": [],
   "source": [
    "import temp_converter as tc"
   ]
  },
  {
   "cell_type": "code",
   "execution_count": null,
   "metadata": {},
   "outputs": [
    {
     "name": "stdout",
     "output_type": "stream",
     "text": [
      "The freezing point of water in Fahrenheit is 32.0\n"
     ]
    }
   ],
   "source": [
    "print(f\"The freezing point of water in Fahrenheit is {tc.celcius_to_fahr(0)}\")"
   ]
  },
  {
   "attachments": {},
   "cell_type": "markdown",
   "metadata": {},
   "source": [
    "### Temperature calculator"
   ]
  },
  {
   "attachments": {},
   "cell_type": "markdown",
   "metadata": {},
   "source": [
    "Let’s now make a simple temp_calculator function that accepts temperatures in Kelvins and returns values in either degrees Celsius or degrees Fahrenheit. The new function will have two parameters:"
   ]
  },
  {
   "attachments": {},
   "cell_type": "markdown",
   "metadata": {},
   "source": [
    "- temp_k = The parameter for passing temperature in Kelvins\n",
    "\n",
    "- convert_to = The parameter that determines whether to output should be in Celsius or in Fahrenheit (using the letters C or F accordingly)"
   ]
  },
  {
   "cell_type": "code",
   "execution_count": null,
   "metadata": {},
   "outputs": [],
   "source": [
    "def temp_calcuulator(temp_k, convert_to):\n",
    "    # check if user wants temp in Celcius\n",
    "    if convert_to == \"C\":\n",
    "        # convert value to celcius using imported script\n",
    "        converted_temp = kelvins_to_celcius(temp_kelvins=temp_k)\n",
    "    elif convert_to == \"F\":\n",
    "        converted_temp = kelvins_to_fahr(temp_kelvins=temp_k)\n",
    "    # return result\n",
    "    return converted_temp"
   ]
  },
  {
   "attachments": {},
   "cell_type": "markdown",
   "metadata": {},
   "source": [
    "Add a docstring"
   ]
  },
  {
   "cell_type": "code",
   "execution_count": 18,
   "metadata": {},
   "outputs": [],
   "source": [
    "def temp_calcuulator(temp_k, convert_to):\n",
    "    \"\"\"\n",
    "    Function to convert temp in Kelvin to C or F\n",
    "\n",
    "    Parameters\n",
    "    ----------\n",
    "    temp_k: <numerical>\n",
    "        Temperature in kelvins\n",
    "    convert_to: <str>\n",
    "        Target temp either in Celcius ('C') or Farenheit ('F')\n",
    "\n",
    "    Returns\n",
    "    --------\n",
    "    <float>\n",
    "        Converted temperature\n",
    "\n",
    "    \"\"\"\n",
    "    # check if user wants temp in Celcius\n",
    "    if convert_to == \"C\":\n",
    "        # convert value to celcius using imported script\n",
    "        converted_temp = kelvins_to_celcius(temp_kelvins=temp_k)\n",
    "    elif convert_to == \"F\":\n",
    "        converted_temp = kelvins_to_fahr(temp_kelvins=temp_k)\n",
    "    # return result\n",
    "    return converted_temp"
   ]
  },
  {
   "attachments": {},
   "cell_type": "markdown",
   "metadata": {},
   "source": [
    "Add to temp_conveter.py"
   ]
  },
  {
   "cell_type": "code",
   "execution_count": 1,
   "metadata": {},
   "outputs": [],
   "source": [
    "import temp_converter as tc"
   ]
  },
  {
   "cell_type": "code",
   "execution_count": 2,
   "metadata": {},
   "outputs": [
    {
     "name": "stdout",
     "output_type": "stream",
     "text": [
      "Help on function temp_calcuulator in module temp_converter:\n",
      "\n",
      "temp_calcuulator(temp_k, convert_to)\n",
      "    Function to convert temp in Kelvin to C or F\n",
      "    \n",
      "    Parameters\n",
      "    ----------\n",
      "    temp_k: <numerical>\n",
      "        Temperature in kelvins\n",
      "    convert_to: <str>\n",
      "        Target temp either in Celcius ('C') or Farenheit ('F')\n",
      "    \n",
      "    Returns\n",
      "    --------\n",
      "    <float> \n",
      "        Converted temperature\n",
      "\n"
     ]
    }
   ],
   "source": [
    "help(tc.temp_calcuulator)"
   ]
  },
  {
   "cell_type": "code",
   "execution_count": 4,
   "metadata": {},
   "outputs": [
    {
     "name": "stdout",
     "output_type": "stream",
     "text": [
      "Temperature 30 in Kelvins is -243.14999999999998 in Celsius\n"
     ]
    }
   ],
   "source": [
    "temp_kelvin = 30\n",
    "\n",
    "temperature_c = tc.temp_calcuulator(temp_k=temp_kelvin, convert_to=\"C\")\n",
    "\n",
    "print(f\"Temperature {temp_kelvin} in Kelvins is {temperature_c} in Celsius\")"
   ]
  },
  {
   "attachments": {},
   "cell_type": "markdown",
   "metadata": {},
   "source": [
    "### Using module functions"
   ]
  },
  {
   "cell_type": "code",
   "execution_count": 1,
   "metadata": {},
   "outputs": [],
   "source": [
    "import math"
   ]
  },
  {
   "cell_type": "code",
   "execution_count": 2,
   "metadata": {},
   "outputs": [
    {
     "name": "stdout",
     "output_type": "stream",
     "text": [
      "['__doc__', '__file__', '__loader__', '__name__', '__package__', '__spec__', 'acos', 'acosh', 'asin', 'asinh', 'atan', 'atan2', 'atanh', 'ceil', 'comb', 'copysign', 'cos', 'cosh', 'degrees', 'dist', 'e', 'erf', 'erfc', 'exp', 'expm1', 'fabs', 'factorial', 'floor', 'fmod', 'frexp', 'fsum', 'gamma', 'gcd', 'hypot', 'inf', 'isclose', 'isfinite', 'isinf', 'isnan', 'isqrt', 'lcm', 'ldexp', 'lgamma', 'log', 'log10', 'log1p', 'log2', 'modf', 'nan', 'nextafter', 'perm', 'pi', 'pow', 'prod', 'radians', 'remainder', 'sin', 'sinh', 'sqrt', 'tan', 'tanh', 'tau', 'trunc', 'ulp']\n"
     ]
    }
   ],
   "source": [
    "print(dir(math))"
   ]
  },
  {
   "cell_type": "code",
   "execution_count": 3,
   "metadata": {},
   "outputs": [
    {
     "name": "stdout",
     "output_type": "stream",
     "text": [
      "Help on built-in function sin in module math:\n",
      "\n",
      "sin(x, /)\n",
      "    Return the sine of x (measured in radians).\n",
      "\n"
     ]
    }
   ],
   "source": [
    "help(math.sin)"
   ]
  },
  {
   "attachments": {},
   "cell_type": "markdown",
   "metadata": {},
   "source": [
    "### Starting with a shebang"
   ]
  },
  {
   "attachments": {},
   "cell_type": "markdown",
   "metadata": {},
   "source": [
    "Starting with a shebang means that the first line of your program starts with the characters #! followed by the location of a program that will run the Python software installed on the computer. An example is below."
   ]
  },
  {
   "cell_type": "code",
   "execution_count": 4,
   "metadata": {},
   "outputs": [
    {
     "name": "stdout",
     "output_type": "stream",
     "text": [
      "The Helsinki Kaivopuisto station is located at 60.15 N, 24.96 E\n"
     ]
    }
   ],
   "source": [
    "#!/usr/bin/env python3\n",
    "\"\"\"Prints information about an FMI observation station to the screen.\n",
    "\n",
    "Usage:\n",
    "    ./stationinfo.py\n",
    "\n",
    "Author:\n",
    "    David Whipp - 10.9.2017\n",
    "\"\"\"\n",
    "\n",
    "# Finnish Meterological Institute observation station name and location data\n",
    "\n",
    "# Station name for the station in Kaivopuisto, Helsinki, Finland\n",
    "stationName = \"Helsinki Kaivopuisto\"\n",
    "\n",
    "# Station latitude and longitude - Latitude is north, longitude is east\n",
    "stationLat = 60.15\n",
    "stationLong = 24.96\n",
    "\n",
    "# Print station name and location to the screen\n",
    "print(f\"The {stationName} station is located at {stationLat} N, {stationLong} E\")"
   ]
  },
  {
   "attachments": {},
   "cell_type": "markdown",
   "metadata": {},
   "source": [
    "## Exercise 4.1"
   ]
  },
  {
   "attachments": {},
   "cell_type": "markdown",
   "metadata": {},
   "source": [
    "**Simple temperature calculator**"
   ]
  },
  {
   "cell_type": "markdown",
   "metadata": {},
   "source": [
    "In the first problem your aim is to create a function that converts the input temperature from degrees Fahrenheit to degrees Celsius. The conversion formula from Fahrenheit to Celsius can be found below.\n",
    "\n",
    " \n",
    "If everything in your script is working properly the following test case should work:\n",
    "\n",
    ">>> print(f\"32 degrees Fahrenheit in Celsius is {fahr_to_celsius(32)}\")\n",
    "32 degrees Fahrenheit in Celsius is 0.0"
   ]
  },
  {
   "cell_type": "code",
   "execution_count": 6,
   "metadata": {},
   "outputs": [],
   "source": [
    "def fahr_to_celsius(temp_fahrenheit):\n",
    "    \"\"\"\n",
    "    Function for converting temperature in Fahrenheit to celcius\n",
    "\n",
    "    Parameters\n",
    "    ----------\n",
    "    temp_fahrenheit: <numerical>\n",
    "        Temperature in fahrenheit\n",
    "\n",
    "    Returns\n",
    "    ---------\n",
    "    <float>\n",
    "        Converted temperature\n",
    "\n",
    "\n",
    "    \"\"\"\n",
    "    temp_celcius = (temp_fahrenheit - 32) / 1.8\n",
    "    return temp_celcius"
   ]
  },
  {
   "cell_type": "code",
   "execution_count": 8,
   "metadata": {},
   "outputs": [
    {
     "name": "stdout",
     "output_type": "stream",
     "text": [
      "32 degrees Fahrenheit in Celsius is 0.0\n"
     ]
    }
   ],
   "source": [
    "print(f\"32 degrees Fahrenheit in Celsius is {fahr_to_celsius(32)}\")"
   ]
  },
  {
   "cell_type": "code",
   "execution_count": 9,
   "metadata": {},
   "outputs": [
    {
     "name": "stdout",
     "output_type": "stream",
     "text": [
      "48 degrees Fahrenheit in Celsius is 8.88888888888889\n"
     ]
    }
   ],
   "source": [
    "# What is 48° Fahrenheit in Celsius?\n",
    "print(f\"48 degrees Fahrenheit in Celsius is {fahr_to_celsius(48)}\")"
   ]
  },
  {
   "cell_type": "code",
   "execution_count": 10,
   "metadata": {},
   "outputs": [
    {
     "name": "stdout",
     "output_type": "stream",
     "text": [
      "71 degrees Fahrenheit in Celsius is 21.666666666666668\n"
     ]
    }
   ],
   "source": [
    "# What is 71 Fahrenheit in Celsius?\n",
    "print(f\"71 degrees Fahrenheit in Celsius is {fahr_to_celsius(71)}\")"
   ]
  },
  {
   "attachments": {},
   "cell_type": "markdown",
   "metadata": {},
   "source": [
    "Testing"
   ]
  },
  {
   "cell_type": "code",
   "execution_count": 12,
   "metadata": {},
   "outputs": [],
   "source": [
    "import inspect\n",
    "\n",
    "# Check that function exists\n",
    "assert inspect.isfunction(fahr_to_celsius), \"Fahr_to_celsius should be a function.\""
   ]
  },
  {
   "cell_type": "code",
   "execution_count": 13,
   "metadata": {},
   "outputs": [],
   "source": [
    "# Check that the function has a single parameter and the parameter name is correct\n",
    "params = list(inspect.signature(fahr_to_celsius).parameters.keys())\n",
    "assert len(params) == 1, \"The function should have one parameter\"\n",
    "assert params[0] == \"temp_fahrenheit\", 'The parameter name should be \"temp_fahrenheit\".'"
   ]
  },
  {
   "cell_type": "code",
   "execution_count": 14,
   "metadata": {},
   "outputs": [],
   "source": [
    "# Check that the function produces correct answers for:\n",
    "# 1. What is 48° Fahrenheit in Celsius?\n",
    "assert round(fahr_to_celsius(48), 2) == 8.89"
   ]
  },
  {
   "cell_type": "code",
   "execution_count": 15,
   "metadata": {},
   "outputs": [],
   "source": [
    "# 2. What about 71° Fahrenheit in Celsius?\n",
    "assert round(fahr_to_celsius(71), 2) == 21.67"
   ]
  },
  {
   "attachments": {},
   "cell_type": "markdown",
   "metadata": {},
   "source": [
    "## Exercise 4.2"
   ]
  },
  {
   "attachments": {},
   "cell_type": "markdown",
   "metadata": {},
   "source": [
    "Here, you should create a function called temp_classifier that accepts a temperature value in Celsius that will be reclassified into integer numbers 0-3 based on following criteria:\n",
    "\n",
    "Return value\tClassification criteria\n",
    "- 0\tTemperatures below -2 degrees Celsius\n",
    "- 1\tTemperatures equal or warmer than -2, but less than +2 degrees Celsius\n",
    "- 2\tTemperatures equal or warmer than +2, but less than +15 degrees Celsius\n",
    "- 3\tTemperatures equal or warmer than +15 degrees Celsius"
   ]
  },
  {
   "cell_type": "code",
   "execution_count": 16,
   "metadata": {},
   "outputs": [],
   "source": [
    "def temp_classifier(temp_celsius):\n",
    "    \"\"\"\n",
    "    Function for classifying temperatures\n",
    "\n",
    "    Parameters:\n",
    "    ------------\n",
    "    temp_celcius: <numerical>\n",
    "        Temperature in celcius\n",
    "\n",
    "\n",
    "    For loop: input temp_celcius\n",
    "        Takes temp_celcius value and classifies the temperature class value according to the rules below:\n",
    "\n",
    "        class value 0:  if temp_celsius is below -2 degrees Celsius\n",
    "        class value 1:  if temp_celsius is equal or warmer than -2, but less than +2 degrees Celsius\n",
    "        class value 2:  if temp_celsius is equal or warmer than +2, but less than +15 degrees Celsius\n",
    "        class value 3:  if temp_celsius is equal or warmer than +15 degrees Celsius\n",
    "\n",
    "    Return:\n",
    "    ----------\n",
    "    <integer>\n",
    "    Reclassified temperature value\n",
    "\n",
    "\n",
    "    \"\"\"\n",
    "    if temp_celsius < -2:\n",
    "        class_value = 0\n",
    "    elif (temp_celsius >= -2) and (temp_celsius < 2):\n",
    "        class_value = 1\n",
    "    elif (temp_celsius >= 2) and (temp_celsius < 15):\n",
    "        class_value = 2\n",
    "    else:\n",
    "        class_value = 3\n",
    "    return class_value"
   ]
  },
  {
   "cell_type": "code",
   "execution_count": 19,
   "metadata": {},
   "outputs": [
    {
     "name": "stdout",
     "output_type": "stream",
     "text": [
      "The class value for 16.5 degrees Celcius is 3\n"
     ]
    }
   ],
   "source": [
    "# What is the class value for 16.5 degrees Celsius?\n",
    "print(f\"The class value for 16.5 degrees Celcius is {temp_classifier(16.5)}\")"
   ]
  },
  {
   "cell_type": "code",
   "execution_count": 20,
   "metadata": {},
   "outputs": [
    {
     "name": "stdout",
     "output_type": "stream",
     "text": [
      "The class value for 2 degrees Celcius is 2\n"
     ]
    }
   ],
   "source": [
    "# What is the class value for 2 degrees Celsius?\n",
    "print(f\"The class value for 2 degrees Celcius is {temp_classifier(2)}\")"
   ]
  },
  {
   "cell_type": "code",
   "execution_count": 21,
   "metadata": {},
   "outputs": [],
   "source": [
    "import inspect\n",
    "\n",
    "# Check that function exists\n",
    "assert inspect.isfunction(temp_classifier)"
   ]
  },
  {
   "cell_type": "code",
   "execution_count": 22,
   "metadata": {},
   "outputs": [],
   "source": [
    "# Check that the function has a single parameter and the pamameter name is correct\n",
    "params = list(inspect.signature(temp_classifier).parameters.keys())\n",
    "assert len(params) == 1\n",
    "assert params[0] == \"temp_celsius\""
   ]
  },
  {
   "cell_type": "code",
   "execution_count": 23,
   "metadata": {},
   "outputs": [
    {
     "name": "stdout",
     "output_type": "stream",
     "text": [
      "ok :)\n"
     ]
    }
   ],
   "source": [
    "# 1. What is the class value for 16.5 degrees (Celsius)?\n",
    "assert temp_classifier(16.5) == 3, \"Wrong class\"\n",
    "print(\"ok :)\")"
   ]
  },
  {
   "cell_type": "code",
   "execution_count": 24,
   "metadata": {},
   "outputs": [
    {
     "name": "stdout",
     "output_type": "stream",
     "text": [
      "ok :)\n"
     ]
    }
   ],
   "source": [
    "# 2. What is the class value for +2 degrees (Celsius)?\n",
    "assert temp_classifier(2) == 2, \"Wrong class\"\n",
    "print(\"ok :)\")"
   ]
  },
  {
   "cell_type": "code",
   "execution_count": 25,
   "metadata": {},
   "outputs": [
    {
     "name": "stdout",
     "output_type": "stream",
     "text": [
      "ok :)\n"
     ]
    }
   ],
   "source": [
    "# 3. What is the class value for +1 degrees (Celsius)?\n",
    "assert temp_classifier(1) == 1, \"Wrong class\"\n",
    "print(\"ok :)\")"
   ]
  },
  {
   "cell_type": "code",
   "execution_count": 26,
   "metadata": {},
   "outputs": [
    {
     "name": "stdout",
     "output_type": "stream",
     "text": [
      "ok :)\n"
     ]
    }
   ],
   "source": [
    "# 4. What is the class value for -5 degrees (Celsius)?\n",
    "assert temp_classifier(-5) == 0, \"Wrong class\"\n",
    "print(\"ok :)\")"
   ]
  },
  {
   "attachments": {},
   "cell_type": "markdown",
   "metadata": {},
   "source": [
    "## Exercise 4.3"
   ]
  },
  {
   "attachments": {},
   "cell_type": "markdown",
   "metadata": {},
   "source": [
    "Create a new script file called temp_functions.py with fahr_to_celsius and temp_classifier functions"
   ]
  },
  {
   "cell_type": "code",
   "execution_count": 2,
   "metadata": {},
   "outputs": [],
   "source": [
    "from temp_functions import fahr_to_celsius, temp_classifier"
   ]
  },
  {
   "cell_type": "code",
   "execution_count": 3,
   "metadata": {},
   "outputs": [],
   "source": [
    "# List of half-hourly temperature values (in degrees Fahrenheit) for one week\n",
    "temp_data = [\n",
    "    19,\n",
    "    21,\n",
    "    21,\n",
    "    21,\n",
    "    23,\n",
    "    23,\n",
    "    23,\n",
    "    21,\n",
    "    19,\n",
    "    21,\n",
    "    19,\n",
    "    21,\n",
    "    23,\n",
    "    27,\n",
    "    27,\n",
    "    28,\n",
    "    30,\n",
    "    30,\n",
    "    32,\n",
    "    32,\n",
    "    32,\n",
    "    32,\n",
    "    34,\n",
    "    34,\n",
    "    34,\n",
    "    36,\n",
    "    36,\n",
    "    36,\n",
    "    36,\n",
    "    36,\n",
    "    36,\n",
    "    34,\n",
    "    34,\n",
    "    34,\n",
    "    34,\n",
    "    34,\n",
    "    34,\n",
    "    32,\n",
    "    30,\n",
    "    30,\n",
    "    30,\n",
    "    28,\n",
    "    28,\n",
    "    27,\n",
    "    27,\n",
    "    27,\n",
    "    23,\n",
    "    23,\n",
    "    21,\n",
    "    21,\n",
    "    21,\n",
    "    19,\n",
    "    19,\n",
    "    19,\n",
    "    18,\n",
    "    18,\n",
    "    21,\n",
    "    27,\n",
    "    28,\n",
    "    30,\n",
    "    32,\n",
    "    34,\n",
    "    36,\n",
    "    37,\n",
    "    37,\n",
    "    37,\n",
    "    39,\n",
    "    39,\n",
    "    39,\n",
    "    39,\n",
    "    39,\n",
    "    39,\n",
    "    41,\n",
    "    41,\n",
    "    41,\n",
    "    41,\n",
    "    41,\n",
    "    39,\n",
    "    39,\n",
    "    37,\n",
    "    37,\n",
    "    36,\n",
    "    36,\n",
    "    34,\n",
    "    34,\n",
    "    32,\n",
    "    30,\n",
    "    30,\n",
    "    28,\n",
    "    27,\n",
    "    27,\n",
    "    25,\n",
    "    23,\n",
    "    23,\n",
    "    21,\n",
    "    21,\n",
    "    19,\n",
    "    19,\n",
    "    19,\n",
    "    18,\n",
    "    18,\n",
    "    18,\n",
    "    21,\n",
    "    25,\n",
    "    27,\n",
    "    28,\n",
    "    34,\n",
    "    34,\n",
    "    41,\n",
    "    37,\n",
    "    37,\n",
    "    39,\n",
    "    39,\n",
    "    39,\n",
    "    39,\n",
    "    41,\n",
    "    41,\n",
    "    39,\n",
    "    39,\n",
    "    39,\n",
    "    39,\n",
    "    39,\n",
    "    41,\n",
    "    39,\n",
    "    39,\n",
    "    39,\n",
    "    37,\n",
    "    36,\n",
    "    34,\n",
    "    32,\n",
    "    28,\n",
    "    28,\n",
    "    27,\n",
    "    25,\n",
    "    25,\n",
    "    25,\n",
    "    23,\n",
    "    23,\n",
    "    23,\n",
    "    23,\n",
    "    21,\n",
    "    21,\n",
    "    21,\n",
    "    21,\n",
    "    19,\n",
    "    21,\n",
    "    19,\n",
    "    21,\n",
    "    21,\n",
    "    19,\n",
    "    21,\n",
    "    27,\n",
    "    28,\n",
    "    32,\n",
    "    36,\n",
    "    36,\n",
    "    37,\n",
    "    39,\n",
    "    39,\n",
    "    39,\n",
    "    39,\n",
    "    39,\n",
    "    41,\n",
    "    41,\n",
    "    41,\n",
    "    41,\n",
    "    41,\n",
    "    41,\n",
    "    41,\n",
    "    41,\n",
    "    41,\n",
    "    39,\n",
    "    37,\n",
    "    36,\n",
    "    36,\n",
    "    34,\n",
    "    32,\n",
    "    30,\n",
    "    28,\n",
    "    28,\n",
    "    27,\n",
    "    27,\n",
    "    25,\n",
    "    25,\n",
    "    23,\n",
    "    23,\n",
    "    23,\n",
    "    21,\n",
    "    21,\n",
    "    21,\n",
    "    19,\n",
    "    19,\n",
    "    19,\n",
    "    19,\n",
    "    19,\n",
    "    19,\n",
    "    21,\n",
    "    23,\n",
    "    23,\n",
    "    23,\n",
    "    25,\n",
    "    27,\n",
    "    30,\n",
    "    36,\n",
    "    37,\n",
    "    37,\n",
    "    39,\n",
    "    39,\n",
    "    41,\n",
    "    41,\n",
    "    41,\n",
    "    39,\n",
    "    39,\n",
    "    41,\n",
    "    43,\n",
    "    43,\n",
    "    43,\n",
    "    43,\n",
    "    43,\n",
    "    43,\n",
    "    43,\n",
    "    43,\n",
    "    43,\n",
    "    39,\n",
    "    37,\n",
    "    37,\n",
    "    37,\n",
    "    36,\n",
    "    36,\n",
    "    36,\n",
    "    36,\n",
    "    34,\n",
    "    32,\n",
    "    32,\n",
    "    32,\n",
    "    32,\n",
    "    30,\n",
    "    30,\n",
    "    28,\n",
    "    28,\n",
    "    28,\n",
    "    27,\n",
    "    27,\n",
    "    27,\n",
    "    27,\n",
    "    25,\n",
    "    27,\n",
    "    27,\n",
    "    27,\n",
    "    28,\n",
    "    28,\n",
    "    28,\n",
    "    30,\n",
    "    32,\n",
    "    32,\n",
    "    32,\n",
    "    34,\n",
    "    34,\n",
    "    36,\n",
    "    36,\n",
    "    36,\n",
    "    37,\n",
    "    37,\n",
    "    37,\n",
    "    37,\n",
    "    37,\n",
    "    37,\n",
    "    37,\n",
    "    37,\n",
    "    37,\n",
    "    36,\n",
    "    34,\n",
    "    30,\n",
    "    30,\n",
    "    27,\n",
    "    27,\n",
    "    25,\n",
    "    25,\n",
    "    23,\n",
    "    21,\n",
    "    21,\n",
    "    21,\n",
    "    21,\n",
    "    19,\n",
    "    19,\n",
    "    19,\n",
    "    19,\n",
    "    19,\n",
    "    18,\n",
    "    18,\n",
    "    18,\n",
    "    18,\n",
    "    18,\n",
    "    19,\n",
    "    23,\n",
    "    27,\n",
    "    30,\n",
    "    32,\n",
    "    32,\n",
    "    32,\n",
    "    32,\n",
    "    32,\n",
    "    32,\n",
    "    34,\n",
    "    34,\n",
    "    34,\n",
    "    34,\n",
    "    34,\n",
    "    36,\n",
    "    36,\n",
    "    36,\n",
    "    36,\n",
    "    36,\n",
    "    32,\n",
    "    32,\n",
    "    32,\n",
    "    32,\n",
    "    32,\n",
    "    32,\n",
    "    32,\n",
    "    32,\n",
    "    30,\n",
    "    30,\n",
    "    30,\n",
    "    30,\n",
    "    30,\n",
    "    30,\n",
    "    30,\n",
    "    30,\n",
    "    30,\n",
    "    30,\n",
    "    30,\n",
    "    30,\n",
    "    30,\n",
    "    28,\n",
    "    28,\n",
    "]"
   ]
  },
  {
   "cell_type": "code",
   "execution_count": 5,
   "metadata": {},
   "outputs": [],
   "source": [
    "temp_classes = []"
   ]
  },
  {
   "cell_type": "code",
   "execution_count": 41,
   "metadata": {},
   "outputs": [
    {
     "name": "stdout",
     "output_type": "stream",
     "text": [
      "[0, 0, 0, 0, 0, 0, 0, 0, 0, 0, 0, 0, 0, 0, 0, 0, 1, 1, 1, 1, 1, 1, 1, 1, 1, 2, 2, 2, 2, 2, 2, 1, 1, 1, 1, 1, 1, 1, 1, 1, 1, 0, 0, 0, 0, 0, 0, 0, 0, 0, 0, 0, 0, 0, 0, 0, 0, 0, 0, 1, 1, 1, 2, 2, 2, 2, 2, 2, 2, 2, 2, 2, 2, 2, 2, 2, 2, 2, 2, 2, 2, 2, 2, 1, 1, 1, 1, 1, 0, 0, 0, 0, 0, 0, 0, 0, 0, 0, 0, 0, 0, 0, 0, 0, 0, 0, 1, 1, 2, 2, 2, 2, 2, 2, 2, 2, 2, 2, 2, 2, 2, 2, 2, 2, 2, 2, 2, 2, 1, 1, 0, 0, 0, 0, 0, 0, 0, 0, 0, 0, 0, 0, 0, 0, 0, 0, 0, 0, 0, 0, 0, 0, 0, 1, 2, 2, 2, 2, 2, 2, 2, 2, 2, 2, 2, 2, 2, 2, 2, 2, 2, 2, 2, 2, 2, 1, 1, 1, 0, 0, 0, 0, 0, 0, 0, 0, 0, 0, 0, 0, 0, 0, 0, 0, 0, 0, 0, 0, 0, 0, 0, 0, 1, 2, 2, 2, 2, 2, 2, 2, 2, 2, 2, 2, 2, 2, 2, 2, 2, 2, 2, 2, 2, 2, 2, 2, 2, 2, 2, 2, 2, 1, 1, 1, 1, 1, 1, 1, 0, 0, 0, 0, 0, 0, 0, 0, 0, 0, 0, 0, 0, 0, 1, 1, 1, 1, 1, 1, 2, 2, 2, 2, 2, 2, 2, 2, 2, 2, 2, 2, 2, 1, 1, 1, 0, 0, 0, 0, 0, 0, 0, 0, 0, 0, 0, 0, 0, 0, 0, 0, 0, 0, 0, 0, 0, 0, 1, 1, 1, 1, 1, 1, 1, 1, 1, 1, 1, 1, 2, 2, 2, 2, 2, 1, 1, 1, 1, 1, 1, 1, 1, 1, 1, 1, 1, 1, 1, 1, 1, 1, 1, 1, 1, 1, 0, 0, 0, 0, 0, 0, 0, 0, 0, 0, 0, 0, 0, 0, 0, 0, 0, 0, 1, 1, 1, 1, 1, 1, 1, 1, 1, 2, 2, 2, 2, 2, 2, 1, 1, 1, 1, 1, 1, 1, 1, 1, 1, 0, 0, 0, 0, 0, 0, 0, 0, 0, 0, 0, 0, 0, 0, 0, 0, 0, 0, 1, 1, 1, 2, 2, 2, 2, 2, 2, 2, 2, 2, 2, 2, 2, 2, 2, 2, 2, 2, 2, 2, 2, 2, 1, 1, 1, 1, 1, 0, 0, 0, 0, 0, 0, 0, 0, 0, 0, 0, 0, 0, 0, 0, 0, 0, 0, 1, 1, 2, 2, 2, 2, 2, 2, 2, 2, 2, 2, 2, 2, 2, 2, 2, 2, 2, 2, 2, 2, 1, 1, 0, 0, 0, 0, 0, 0, 0, 0, 0, 0, 0, 0, 0, 0, 0, 0, 0, 0, 0, 0, 0, 0, 0, 1, 2, 2, 2, 2, 2, 2, 2, 2, 2, 2, 2, 2, 2, 2, 2, 2, 2, 2, 2, 2, 2, 1, 1, 1, 0, 0, 0, 0, 0, 0, 0, 0, 0, 0, 0, 0, 0, 0, 0, 0, 0, 0, 0, 0, 0, 0, 0, 0, 1, 2, 2, 2, 2, 2, 2, 2, 2, 2, 2, 2, 2, 2, 2, 2, 2, 2, 2, 2, 2, 2, 2, 2, 2, 2, 2, 2, 2, 1, 1, 1, 1, 1, 1, 1, 0, 0, 0, 0, 0, 0, 0, 0, 0, 0, 0, 0, 0, 0, 1, 1, 1, 1, 1, 1, 2, 2, 2, 2, 2, 2, 2, 2, 2, 2, 2, 2, 2, 1, 1, 1, 0, 0, 0, 0, 0, 0, 0, 0, 0, 0, 0, 0, 0, 0, 0, 0, 0, 0, 0, 0, 0, 0, 1, 1, 1, 1, 1, 1, 1, 1, 1, 1, 1, 1, 2, 2, 2, 2, 2, 1, 1, 1, 1, 1, 1, 1, 1, 1, 1, 1, 1, 1, 1, 1, 1, 1, 1, 1, 1, 1, 0, 0, 0, 0, 0, 0, 0, 0, 0, 0, 0, 0, 0, 0, 0, 0, 0, 0, 1, 1, 1, 1, 1, 1, 1, 1, 1, 2, 2, 2, 2, 2, 2, 1, 1, 1, 1, 1, 1, 1, 1, 1, 1, 0, 0, 0, 0, 0, 0, 0, 0, 0, 0, 0, 0, 0, 0, 0, 0, 0, 0, 1, 1, 1, 2, 2, 2, 2, 2, 2, 2, 2, 2, 2, 2, 2, 2, 2, 2, 2, 2, 2, 2, 2, 2, 1, 1, 1, 1, 1, 0, 0, 0, 0, 0, 0, 0, 0, 0, 0, 0, 0, 0, 0, 0, 0, 0, 0, 1, 1, 2, 2, 2, 2, 2, 2, 2, 2, 2, 2, 2, 2, 2, 2, 2, 2, 2, 2, 2, 2, 1, 1, 0, 0, 0, 0, 0, 0, 0, 0, 0, 0, 0, 0, 0, 0, 0, 0, 0, 0, 0, 0, 0, 0, 0, 1, 2, 2, 2, 2, 2, 2, 2, 2, 2, 2, 2, 2, 2, 2, 2, 2, 2, 2, 2, 2, 2, 1, 1, 1, 0, 0, 0, 0, 0, 0, 0, 0, 0, 0, 0, 0, 0, 0, 0, 0, 0, 0, 0, 0, 0, 0, 0, 0, 1, 2, 2, 2, 2, 2, 2, 2, 2, 2, 2, 2, 2, 2, 2, 2, 2, 2, 2, 2, 2, 2, 2, 2, 2, 2, 2, 2, 2, 1, 1, 1, 1, 1, 1, 1, 0, 0, 0, 0, 0, 0, 0, 0, 0, 0, 0, 0, 0, 0, 1, 1, 1, 1, 1, 1, 2, 2, 2, 2, 2, 2, 2, 2, 2, 2, 2, 2, 2, 1, 1, 1, 0, 0, 0, 0, 0, 0, 0, 0, 0, 0, 0, 0, 0, 0, 0, 0, 0, 0, 0, 0, 0, 0, 1, 1, 1, 1, 1, 1, 1, 1, 1, 1, 1, 1, 2, 2, 2, 2, 2, 1, 1, 1, 1, 1, 1, 1, 1, 1, 1, 1, 1, 1, 1, 1, 1, 1, 1, 1, 1, 1, 0, 0, 0, 0, 0, 0, 0, 0, 0, 0, 0, 0, 0, 0, 0, 0, 0, 0, 0, 0, 0, 0, 0, 0, 0, 0, 0, 0, 0, 0, 0, 0, 0, 0, 0, 0, 0, 0, 0, 0, 0, 0, 0, 0, 0, 0, 0, 0, 0, 0, 0, 0, 0, 0, 0, 0, 0, 0, 0, 0, 0, 0, 0, 0, 0, 0, 0, 0, 0, 0, 0, 0, 0, 0, 0, 0, 0, 0, 0, 0, 0, 0, 0, 0, 0, 0, 0, 0, 0, 0, 0, 0, 0, 0, 0, 0, 0, 0, 0, 0, 0, 0, 0, 0, 0, 0, 0, 0, 0, 0, 0, 0, 0, 0, 0, 0, 0, 0, 0, 0, 0, 0, 0, 0, 0, 0, 0, 0, 0, 0, 0, 0, 0, 0, 0, 0, 0, 0, 0, 0, 0, 0, 0, 0, 0, 0, 0, 0, 0, 0, 0, 0, 0, 0, 0, 0, 0, 0, 0, 0, 0, 0, 0, 0, 0, 0, 0, 0, 0, 0, 0, 0, 0, 0, 0, 0, 0, 0, 0, 0, 0, 0, 0, 0, 0, 0, 0, 0, 0, 0, 0, 0, 0, 0, 0, 0, 0, 0, 0, 0, 0, 0, 0, 0, 0, 0, 0, 0, 0, 0, 0, 0, 0, 0, 0, 0, 0, 0, 0, 0, 0, 0, 0, 0, 0, 0, 0, 0, 0, 0, 0, 0, 0, 0, 0, 0, 0, 0, 0, 0, 0, 0, 0, 0, 0, 0, 0, 0, 0, 0, 0, 0, 0, 0, 0, 0, 0, 0, 0, 0, 0, 0, 0, 0, 0, 0, 0, 0, 0, 0, 0, 0, 0, 0, 0, 0, 0, 0, 0, 0, 0, 0, 0, 0, 0, 0, 0, 0, 0, 0, 0, 0, 0, 0, 0, 0, 0, 0, 0, 0, 0, 0, 0, 0, 0, 0, 0, 0, 0, 0, 0, 0, 0, 0, 0, 0, 0, 0, 0, 0, 0, 0, 0, 0, 0, 0, 0, 0, 0, 0, 0, 0, 0, 0, 0, 0, 0, 0]\n"
     ]
    }
   ],
   "source": [
    "for temp in temp_data:\n",
    "    temp_celsius = fahr_to_celsius(temp)\n",
    "    temp_class = temp_classifier(celcius)\n",
    "    temp_classes.append(temp_class)\n",
    "print(temp_classes)"
   ]
  },
  {
   "attachments": {},
   "cell_type": "markdown",
   "metadata": {},
   "source": [
    "\n",
    "Calculate how many temperatures there are in each temperature class:"
   ]
  },
  {
   "attachments": {},
   "cell_type": "markdown",
   "metadata": {},
   "source": [
    "- Create four variables called zeros, ones, twos, and threes\n",
    "- Count and assign to each variable how many times values 0, 1, 2, and 3 are present in the temp_classes list and print out the results below."
   ]
  },
  {
   "cell_type": "code",
   "execution_count": 29,
   "metadata": {},
   "outputs": [],
   "source": [
    "zeros = []\n",
    "ones = []\n",
    "twos = []\n",
    "threes = []"
   ]
  },
  {
   "cell_type": "code",
   "execution_count": 38,
   "metadata": {},
   "outputs": [
    {
     "name": "stdout",
     "output_type": "stream",
     "text": [
      "Zeros: 411, Ones: 255, Twos: 342, Threes: 0\n"
     ]
    }
   ],
   "source": [
    "zeros = temp_classes.count(0)\n",
    "ones = temp_classes.count(1)\n",
    "twos = temp_classes.count(2)\n",
    "threes = temp_classes.count(3)\n",
    "\n",
    "print(f\"Zeros: {zeros}, Ones: {ones}, Twos: {twos}, Threes: {threes}\")"
   ]
  },
  {
   "cell_type": "code",
   "execution_count": 42,
   "metadata": {},
   "outputs": [],
   "source": [
    "import inspect\n",
    "\n",
    "# Check that functions are in the namespace\n",
    "assert inspect.isfunction(fahr_to_celsius)\n",
    "assert inspect.isfunction(temp_classifier)"
   ]
  },
  {
   "cell_type": "code",
   "execution_count": 43,
   "metadata": {},
   "outputs": [],
   "source": [
    "# Check that variable has been created\n",
    "assert \"temp_celsius\" in locals()\n",
    "assert \"temp_class\" in locals()\n",
    "assert \"temp_classes\" in locals()\n",
    "\n",
    "# Check that temp_classes is a list\n",
    "assert type(temp_classes) == list"
   ]
  },
  {
   "cell_type": "code",
   "execution_count": 44,
   "metadata": {},
   "outputs": [],
   "source": [
    "# Check that the functions have a single parameter\n",
    "t_params = list(inspect.signature(temp_classifier).parameters.keys())\n",
    "f_params = list(inspect.signature(fahr_to_celsius).parameters.keys())\n",
    "assert len(t_params) == 1\n",
    "assert len(f_params) == 1"
   ]
  }
 ],
 "metadata": {
  "kernelspec": {
   "display_name": "geo-python-student",
   "language": "python",
   "name": "python3"
  },
  "language_info": {
   "codemirror_mode": {
    "name": "ipython",
    "version": 3
   },
   "file_extension": ".py",
   "mimetype": "text/x-python",
   "name": "python",
   "nbconvert_exporter": "python",
   "pygments_lexer": "ipython3",
   "version": "3.10.6"
  },
  "orig_nbformat": 4,
  "vscode": {
   "interpreter": {
    "hash": "822a9c2f4fc3f3a0a197d8e9f57df79f43053bd78895b9b35a156d8cf2f374cf"
   }
  }
 },
 "nbformat": 4,
 "nbformat_minor": 2
}
